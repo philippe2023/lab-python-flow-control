{
 "cells": [
  {
   "cell_type": "markdown",
   "id": "d3bfc191-8885-42ee-b0a0-bbab867c6f9f",
   "metadata": {
    "tags": []
   },
   "source": [
    "# Lab | Flow Control"
   ]
  },
  {
   "cell_type": "markdown",
   "id": "3851fcd1-cf98-4653-9c89-e003b7ec9400",
   "metadata": {
    "jp-MarkdownHeadingCollapsed": true
   },
   "source": [
    "## Exercise: Managing Customer Orders Optimized\n",
    "\n",
    "In the last lab, you were starting an online store that sells various products. To ensure smooth operations, you developed a program that manages customer orders and inventory.\n",
    "\n",
    "You did so without using flow control. Let's go a step further and improve this code.\n",
    "\n",
    "Follow the steps below to complete the exercise:\n",
    "\n",
    "1. Look at your code from the lab data structures, and improve repeated code with loops.\n",
    "\n",
    "2. Instead of asking the user to input the name of three products that a customer wants to order, do the following:\n",
    "    \n",
    "    a. Prompt the user to enter the name of a product that a customer wants to order.\n",
    "    \n",
    "    b. Add the product name to the \"customer_orders\" set.\n",
    "    \n",
    "    c. Ask the user if they want to add another product (yes/no).\n",
    "    \n",
    "    d. Continue the loop until the user does not want to add another product.\n",
    "\n",
    "3. Instead of updating the inventory by subtracting 1 from the quantity of each product, only do it for  the products that were ordered (those in \"customer_orders\")."
   ]
  },
  {
   "cell_type": "markdown",
   "id": "5e238d17-c7f6-4d00-96f5-28510c3f5d25",
   "metadata": {},
   "source": [
    "## Answer:"
   ]
  },
  {
   "cell_type": "code",
   "execution_count": 13,
   "id": "e0b89011-f4e4-47a6-abac-f9c9e6327f15",
   "metadata": {},
   "outputs": [],
   "source": [
    "# define the product list\n",
    "products = [\"t-shirt\", \"mug\", \"hat\", \"book\", \"keychain\"]"
   ]
  },
  {
   "cell_type": "code",
   "execution_count": 15,
   "id": "b8fc726f-7722-4319-b002-5ad592bf65f4",
   "metadata": {},
   "outputs": [],
   "source": [
    "# empty dictionary called inventory\n",
    "inventory = {}"
   ]
  },
  {
   "cell_type": "code",
   "execution_count": 17,
   "id": "d53dd36c-cb1b-4cbe-b4ae-8f98fb0fc421",
   "metadata": {},
   "outputs": [
    {
     "name": "stdin",
     "output_type": "stream",
     "text": [
      "Please enter the current inventory of t-shirt:  5\n",
      "Please enter the current inventory of mug:  4\n",
      "Please enter the current inventory of hat:  6\n",
      "Please enter the current inventory of book:  2\n",
      "Please enter the current inventory of keychain:  3\n"
     ]
    }
   ],
   "source": [
    "# Ask the user to input the quantity of each product available in the inventory.\n",
    "for product in products:\n",
    "    quantity = int(input(f\"Please enter the current inventory of {product}: \"))\n",
    "    inventory[product] = quantity"
   ]
  },
  {
   "cell_type": "code",
   "execution_count": 19,
   "id": "69e91158-80bc-400b-9359-ad75d15c2b0e",
   "metadata": {},
   "outputs": [],
   "source": [
    "# empty set called customer_orders\n",
    "customer_orders = set()"
   ]
  },
  {
   "cell_type": "code",
   "execution_count": 30,
   "id": "3990c218-fdd6-446c-8ad4-6a2a283a93d2",
   "metadata": {},
   "outputs": [
    {
     "name": "stdout",
     "output_type": "stream",
     "text": [
      "Hello, for today we do have the following list of products in stock: ['t-shirt', 'mug', 'hat', 'book', 'keychain']\n"
     ]
    },
    {
     "name": "stdin",
     "output_type": "stream",
     "text": [
      "Please enter which item would you like to buy:  mug\n",
      "Do you want anything else?(yes/no):  yes\n"
     ]
    },
    {
     "name": "stdout",
     "output_type": "stream",
     "text": [
      "Hello, for today we do have the following list of products in stock: ['t-shirt', 'mug', 'hat', 'book', 'keychain']\n"
     ]
    },
    {
     "name": "stdin",
     "output_type": "stream",
     "text": [
      "Please enter which item would you like to buy:  book\n",
      "Do you want anything else?(yes/no):  yes\n"
     ]
    },
    {
     "name": "stdout",
     "output_type": "stream",
     "text": [
      "Hello, for today we do have the following list of products in stock: ['t-shirt', 'mug', 'hat', 'book', 'keychain']\n"
     ]
    },
    {
     "name": "stdin",
     "output_type": "stream",
     "text": [
      "Please enter which item would you like to buy:  hat\n",
      "Do you want anything else?(yes/no):  no\n"
     ]
    },
    {
     "name": "stdout",
     "output_type": "stream",
     "text": [
      "{'book', 'mug', 'hat'}\n"
     ]
    }
   ],
   "source": [
    "buy = \"yes\"\n",
    "\n",
    "while buy == \"yes\":\n",
    "    print(f\"Hello, for today we do have the following list of products in stock: {products}\")\n",
    "    order = input(\"Please enter which item would you like to buy: \").strip().lower()\n",
    "    if order in products:\n",
    "        customer_orders.add(order)\n",
    "    else:\n",
    "        print(f\"Sorry but this item, {order} is not available in our store.\")\n",
    "        correct_item = input(f\"Please select another item from the list {products}: \")\n",
    "        customer_orders.add(correct_item)\n",
    "    buy = input(\"Do you want anything else?(yes/no): \").strip().lower()\n",
    "# display the set\n",
    "print(customer_orders)"
   ]
  },
  {
   "cell_type": "code",
   "execution_count": 32,
   "id": "cb2b7429-0ae9-4a0e-8439-322dc1a13b8f",
   "metadata": {},
   "outputs": [
    {
     "name": "stdout",
     "output_type": "stream",
     "text": [
      "Thank you for your order.\n",
      "I will now confirm your order as follows: \n",
      "-> Your item number 1 is book.\n",
      "-> Your item number 2 is mug.\n",
      "-> Your item number 3 is hat.\n",
      "Your list of orders is: {'book', 'mug', 'hat'}\n"
     ]
    }
   ],
   "source": [
    "# Print the products in the customer_orders set\n",
    "print(\"Thank you for your order.\")\n",
    "print(\"I will now confirm your order as follows: \")\n",
    "for index, customer_order in enumerate(customer_orders):\n",
    "    print(f\"-> Your item number {index + 1} is {customer_order}.\")\n",
    "print(f\"Your list of orders is: {customer_orders}\")"
   ]
  },
  {
   "cell_type": "code",
   "execution_count": 34,
   "id": "9099f15b-a65a-4755-bf36-3cc7f2f8a57c",
   "metadata": {},
   "outputs": [
    {
     "name": "stdout",
     "output_type": "stream",
     "text": [
      "Updated Inventory:\n",
      "t-shirt: 5\n",
      "mug: 3\n",
      "hat: 5\n",
      "book: 1\n",
      "keychain: 3\n"
     ]
    }
   ],
   "source": [
    "# Update the inventory for the products that were ordered\n",
    "for product in customer_orders:\n",
    "    inventory[product] -= 1\n",
    "\n",
    "# Print the updated inventory\n",
    "print(\"Updated Inventory:\")\n",
    "for product, quantity in inventory.items():\n",
    "    print(f\"{product}: {quantity}\")"
   ]
  },
  {
   "cell_type": "code",
   "execution_count": null,
   "id": "7374e573-7888-4a61-8fa4-7462e8570d71",
   "metadata": {},
   "outputs": [],
   "source": []
  }
 ],
 "metadata": {
  "kernelspec": {
   "display_name": "Python 3 (ipykernel)",
   "language": "python",
   "name": "python3"
  },
  "language_info": {
   "codemirror_mode": {
    "name": "ipython",
    "version": 3
   },
   "file_extension": ".py",
   "mimetype": "text/x-python",
   "name": "python",
   "nbconvert_exporter": "python",
   "pygments_lexer": "ipython3",
   "version": "3.12.4"
  }
 },
 "nbformat": 4,
 "nbformat_minor": 5
}
